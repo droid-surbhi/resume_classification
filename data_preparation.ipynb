{
 "cells": [
  {
   "cell_type": "code",
   "execution_count": 2,
   "metadata": {},
   "outputs": [],
   "source": [
    "import pandas as pd\n",
    "import re"
   ]
  },
  {
   "cell_type": "code",
   "execution_count": 114,
   "metadata": {},
   "outputs": [
    {
     "name": "stdout",
     "output_type": "stream",
     "text": [
      "[nltk_data] Downloading package wordnet to\n",
      "[nltk_data]     C:\\Users\\Asus\\AppData\\Roaming\\nltk_data...\n",
      "[nltk_data]   Package wordnet is already up-to-date!\n"
     ]
    }
   ],
   "source": [
    "import nltk\n",
    "nltk.download('wordnet')\n",
    "from nltk.stem import WordNetLemmatizer\n",
    "lemmatizer = WordNetLemmatizer()"
   ]
  },
  {
   "cell_type": "markdown",
   "metadata": {},
   "source": [
    "read data, resume_data.pkl is the output from data_cleaning.ipynb where skills have already been identified for each resume"
   ]
  },
  {
   "cell_type": "code",
   "execution_count": 4,
   "metadata": {},
   "outputs": [],
   "source": [
    "resume_data = pd.read_pickle(\"resume_data.pkl\")"
   ]
  },
  {
   "cell_type": "code",
   "execution_count": 6,
   "metadata": {},
   "outputs": [],
   "source": [
    "annotations = resume_data[\"annotation\"].values"
   ]
  },
  {
   "cell_type": "code",
   "execution_count": 14,
   "metadata": {},
   "outputs": [],
   "source": [
    "labels = []\n",
    "for annotation in annotations:\n",
    "    for point in annotation:\n",
    "        if len(point[\"label\"])>0:\n",
    "            if point[\"label\"][0] not in labels:\n",
    "                labels.append(point[\"label\"][0])"
   ]
  },
  {
   "cell_type": "code",
   "execution_count": 15,
   "metadata": {},
   "outputs": [
    {
     "data": {
      "text/plain": [
       "['Skills',\n",
       " 'College Name',\n",
       " 'Graduation Year',\n",
       " 'Designation',\n",
       " 'Companies worked at',\n",
       " 'Email Address',\n",
       " 'Location',\n",
       " 'Name',\n",
       " 'Degree',\n",
       " 'Years of Experience',\n",
       " 'UNKNOWN']"
      ]
     },
     "execution_count": 15,
     "metadata": {},
     "output_type": "execute_result"
    }
   ],
   "source": [
    "labels"
   ]
  },
  {
   "cell_type": "markdown",
   "metadata": {},
   "source": [
    "## add degree ans designation along with skills to feature set"
   ]
  },
  {
   "cell_type": "code",
   "execution_count": 108,
   "metadata": {},
   "outputs": [],
   "source": [
    "feature_set = ['Designation', \"Degree\", \"Skills\"]\n",
    "stopwords = [\"in\", \"are\", \"is\", \"it\", \"of\", \"less\", \"more\", \"than\", \"approx\", \"the\", \"and\", \"to\", \"with\", \"year\", \"years\", \"under\", \"yrs\", \"additional\", \"skill\", \"skills\"]"
   ]
  },
  {
   "cell_type": "code",
   "execution_count": 122,
   "metadata": {},
   "outputs": [],
   "source": [
    "def clean_text(txt):\n",
    "    \"Trim and clean the text of special characters\"\n",
    "    txt = txt.lower()\n",
    "    txt = re.sub(\"[^a-zA-Z]+\", \" \", txt)\n",
    "    txt = re.sub(\"\\s+\", \" \", txt)\n",
    "    txt = txt.strip()\n",
    "    txt = [lemmatizer.lemmatize(y.strip()) for y in txt.split() if y.strip() not in stopwords]\n",
    "    return \" \".join(txt)\n"
   ]
  },
  {
   "cell_type": "code",
   "execution_count": 121,
   "metadata": {},
   "outputs": [],
   "source": [
    "def process_all_label(annotation, label):\n",
    "    \"\"\"identify points with skill label and process each set\"\"\"\n",
    "    label_annots = [x for x in annotation if label in x['label']]\n",
    "    label_set = []\n",
    "    for label_point in label_annots:\n",
    "        for point in label_point[\"points\"]:\n",
    "            label_text = point[\"text\"]\n",
    "            temp = clean_text(label_text)\n",
    "            label_set.append(temp)\n",
    "    return list(set(label_set))\n"
   ]
  },
  {
   "cell_type": "code",
   "execution_count": 110,
   "metadata": {},
   "outputs": [],
   "source": [
    "def desig_degree(annotation):\n",
    "    \"\"\"identify degree and designation\"\"\"\n",
    "    degree = process_all_label(annotation, \"Degree\")\n",
    "    desig = process_all_label(annotation, \"Designation\")\n",
    "    return list(set(degree+desig))"
   ]
  },
  {
   "cell_type": "code",
   "execution_count": 123,
   "metadata": {},
   "outputs": [
    {
     "data": {
      "text/plain": [
       "['electrical electronics engineering', 'senior system engineer']"
      ]
     },
     "execution_count": 123,
     "metadata": {},
     "output_type": "execute_result"
    }
   ],
   "source": [
    "desig_degree(resume_data[\"annotation\"][2])"
   ]
  },
  {
   "cell_type": "code",
   "execution_count": 124,
   "metadata": {},
   "outputs": [],
   "source": [
    "resume_data[\"desig_degree\"] = resume_data[\"annotation\"].apply(desig_degree)\n",
    "resume_data[\"feature_set\"] = resume_data[\"skills\"].apply(lambda x: [clean_text(y) for y in x])+resume_data[\"desig_degree\"]"
   ]
  },
  {
   "cell_type": "code",
   "execution_count": 125,
   "metadata": {},
   "outputs": [],
   "source": [
    "resume_data.to_pickle(\"resume_data.pkl\")"
   ]
  },
  {
   "cell_type": "code",
   "execution_count": null,
   "metadata": {},
   "outputs": [],
   "source": []
  }
 ],
 "metadata": {
  "kernelspec": {
   "display_name": "Python 3.8.3 64-bit",
   "language": "python",
   "name": "python3"
  },
  "language_info": {
   "codemirror_mode": {
    "name": "ipython",
    "version": 3
   },
   "file_extension": ".py",
   "mimetype": "text/x-python",
   "name": "python",
   "nbconvert_exporter": "python",
   "pygments_lexer": "ipython3",
   "version": "3.8.3"
  },
  "orig_nbformat": 4,
  "vscode": {
   "interpreter": {
    "hash": "9650cb4e16cdd4a8e8e2d128bf38d875813998db22a3c986335f89e0cb4d7bb2"
   }
  }
 },
 "nbformat": 4,
 "nbformat_minor": 2
}
